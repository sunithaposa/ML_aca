{
 "cells": [
  {
   "cell_type": "code",
   "execution_count": 40,
   "metadata": {},
   "outputs": [],
   "source": [
    "import numpy as np\n",
    "import pandas as pd\n",
    "import statsmodels.api as sm\n",
    "import matplotlib.pyplot as plt\n",
    "from patsy import dmatrices\n",
    "from sklearn.linear_model import LinearRegression\n",
    "from sklearn.model_selection import train_test_split\n",
    "from sklearn import metrics\n",
    "from sklearn.model_selection import cross_val_score"
   ]
  },
  {
   "cell_type": "code",
   "execution_count": 41,
   "metadata": {},
   "outputs": [],
   "source": [
    "# load dataset\n",
    "dta = sm.datasets.fair.load_pandas().data\n"
   ]
  },
  {
   "cell_type": "code",
   "execution_count": 42,
   "metadata": {
    "scrolled": true
   },
   "outputs": [],
   "source": [
    "machine_data = np.genfromtxt(fname ='C:\\\\Users\\\\Lenovo\\\\ML\\\\Regression-linear\\\\machine.data', delimiter= ',',dtype=float)\n"
   ]
  },
  {
   "cell_type": "code",
   "execution_count": 43,
   "metadata": {},
   "outputs": [
    {
     "data": {
      "text/plain": [
       "(209, 10)"
      ]
     },
     "execution_count": 43,
     "metadata": {},
     "output_type": "execute_result"
    }
   ],
   "source": [
    "machine_data.shape"
   ]
  },
  {
   "cell_type": "code",
   "execution_count": 44,
   "metadata": {},
   "outputs": [
    {
     "data": {
      "text/plain": [
       "array([[      nan,       nan, 1.250e+02, 2.560e+02, 6.000e+03, 2.560e+02,\n",
       "        1.600e+01, 1.280e+02, 1.980e+02, 1.990e+02],\n",
       "       [      nan,       nan, 2.900e+01, 8.000e+03, 3.200e+04, 3.200e+01,\n",
       "        8.000e+00, 3.200e+01, 2.690e+02, 2.530e+02],\n",
       "       [      nan,       nan, 2.900e+01, 8.000e+03, 3.200e+04, 3.200e+01,\n",
       "        8.000e+00, 3.200e+01, 2.200e+02, 2.530e+02],\n",
       "       [      nan,       nan, 2.900e+01, 8.000e+03, 3.200e+04, 3.200e+01,\n",
       "        8.000e+00, 3.200e+01, 1.720e+02, 2.530e+02],\n",
       "       [      nan,       nan, 2.900e+01, 8.000e+03, 1.600e+04, 3.200e+01,\n",
       "        8.000e+00, 1.600e+01, 1.320e+02, 1.320e+02],\n",
       "       [      nan,       nan, 2.600e+01, 8.000e+03, 3.200e+04, 6.400e+01,\n",
       "        8.000e+00, 3.200e+01, 3.180e+02, 2.900e+02],\n",
       "       [      nan,       nan, 2.300e+01, 1.600e+04, 3.200e+04, 6.400e+01,\n",
       "        1.600e+01, 3.200e+01, 3.670e+02, 3.810e+02],\n",
       "       [      nan,       nan, 2.300e+01, 1.600e+04, 3.200e+04, 6.400e+01,\n",
       "        1.600e+01, 3.200e+01, 4.890e+02, 3.810e+02],\n",
       "       [      nan,       nan, 2.300e+01, 1.600e+04, 6.400e+04, 6.400e+01,\n",
       "        1.600e+01, 3.200e+01, 6.360e+02, 7.490e+02],\n",
       "       [      nan,       nan, 2.300e+01, 3.200e+04, 6.400e+04, 1.280e+02,\n",
       "        3.200e+01, 6.400e+01, 1.144e+03, 1.238e+03],\n",
       "       [      nan,       nan, 4.000e+02, 1.000e+03, 3.000e+03, 0.000e+00,\n",
       "        1.000e+00, 2.000e+00, 3.800e+01, 2.300e+01],\n",
       "       [      nan,       nan, 4.000e+02, 5.120e+02, 3.500e+03, 4.000e+00,\n",
       "        1.000e+00, 6.000e+00, 4.000e+01, 2.400e+01],\n",
       "       [      nan,       nan, 6.000e+01, 2.000e+03, 8.000e+03, 6.500e+01,\n",
       "        1.000e+00, 8.000e+00, 9.200e+01, 7.000e+01]])"
      ]
     },
     "execution_count": 44,
     "metadata": {},
     "output_type": "execute_result"
    }
   ],
   "source": [
    "machine_data[:13,:13]"
   ]
  },
  {
   "cell_type": "code",
   "execution_count": 45,
   "metadata": {},
   "outputs": [],
   "source": [
    "machine_data=np.delete(arr=machine_data,obj=[0,1],axis=1)"
   ]
  },
  {
   "cell_type": "code",
   "execution_count": 46,
   "metadata": {},
   "outputs": [],
   "source": [
    "X=machine_data[:,0:6]\n",
    "Y=machine_data[:,7]"
   ]
  },
  {
   "cell_type": "code",
   "execution_count": 47,
   "metadata": {},
   "outputs": [],
   "source": [
    "X_train,X_test,Y_train,Y_test=train_test_split(X,Y,test_size=.25,random_state=100)"
   ]
  },
  {
   "cell_type": "code",
   "execution_count": 48,
   "metadata": {},
   "outputs": [],
   "source": [
    "from sklearn import preprocessing\n",
    "normalized_X = preprocessing.normalize(X_train)\n",
    "normalized_X = preprocessing.normalize(X_test)"
   ]
  },
  {
   "cell_type": "code",
   "execution_count": 49,
   "metadata": {},
   "outputs": [
    {
     "data": {
      "text/plain": [
       "LinearRegression(copy_X=True, fit_intercept=True, n_jobs=None,\n",
       "         normalize=False)"
      ]
     },
     "execution_count": 49,
     "metadata": {},
     "output_type": "execute_result"
    }
   ],
   "source": [
    "LR=LinearRegression()\n",
    "LR.fit(X_train,Y_train)"
   ]
  },
  {
   "cell_type": "code",
   "execution_count": 50,
   "metadata": {},
   "outputs": [
    {
     "data": {
      "text/plain": [
       "0.9153187715764383"
      ]
     },
     "execution_count": 50,
     "metadata": {},
     "output_type": "execute_result"
    }
   ],
   "source": [
    "LR.score(X_train,Y_train)"
   ]
  },
  {
   "cell_type": "code",
   "execution_count": null,
   "metadata": {},
   "outputs": [],
   "source": [
    "#The coefficient R^2 is defined as (1 - u/v), where u is the residual sum of squares ((y_true - y_pred) ** 2).sum() and v is the total sum of squares ((y_true - y_true.mean()) ** 2).sum(). \n",
    "import numpy\n",
    "\n",
    "# Polynomial Regression\n",
    "def polyfit(x, y, degree):\n",
    "    results = {}\n",
    "\n",
    "    coeffs = numpy.polyfit(x, y, degree)\n",
    "\n",
    "     # Polynomial Coefficients\n",
    "    results['polynomial'] = coeffs.tolist()\n",
    "\n",
    "    # r-squared\n",
    "    p = numpy.poly1d(coeffs)\n",
    "    # fit values, and mean\n",
    "    yhat = p(x)                         # or [p(z) for z in x]\n",
    "    ybar = numpy.sum(y)/len(y)          # or sum(y)/len(y)\n",
    "    ssreg = numpy.sum((yhat-ybar)**2)   # or sum([ (yihat - ybar)**2 for yihat in yhat])\n",
    "    sstot = numpy.sum((y - ybar)**2)    # or sum([ (yi - ybar)**2 for yi in y])\n",
    "    results['determination'] = ssreg / sstot\n",
    "\n",
    "    return results\n",
    "\n"
   ]
  }
 ],
 "metadata": {
  "kernelspec": {
   "display_name": "Python 3",
   "language": "python",
   "name": "python3"
  },
  "language_info": {
   "codemirror_mode": {
    "name": "ipython",
    "version": 3
   },
   "file_extension": ".py",
   "mimetype": "text/x-python",
   "name": "python",
   "nbconvert_exporter": "python",
   "pygments_lexer": "ipython3",
   "version": "3.7.1"
  }
 },
 "nbformat": 4,
 "nbformat_minor": 2
}
